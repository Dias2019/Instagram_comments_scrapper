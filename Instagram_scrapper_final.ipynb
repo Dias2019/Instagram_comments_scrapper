{
 "cells": [
  {
   "cell_type": "code",
   "execution_count": null,
   "metadata": {},
   "outputs": [],
   "source": [
    "from selenium import webdriver\n",
    "from bs4 import BeautifulSoup as bs\n",
    "import time\n",
    "import pandas as pd\n",
    "from selenium.webdriver.common.keys import Keys\n",
    "from selenium.webdriver.support.ui import WebDriverWait\n",
    "from selenium.webdriver.support import expected_conditions as EC\n",
    "from selenium.webdriver.common.by import By"
   ]
  },
  {
   "cell_type": "markdown",
   "metadata": {},
   "source": [
    "# Saving_urls:"
   ]
  },
  {
   "cell_type": "code",
   "execution_count": null,
   "metadata": {},
   "outputs": [],
   "source": [
    "\n",
    "urls = [] \n",
    "driver = webdriver.Chrome(\"C:\\\\Users\\\\dias_\\\\Downloads\\\\chromedriver.exe\")\n",
    "\n",
    "def login_to_account():\n",
    "    username = 'testing_kazakhtele'\n",
    "    password = 'kazakhtelecom'\n",
    "\n",
    "    driver.get('https://www.instagram.com/accounts/login/?source=auth_switcher')\n",
    "    driver.implicitly_wait(3)\n",
    "\n",
    "    usernameh = driver.find_element_by_name('username')\n",
    "    usernameh.send_keys(username)\n",
    "\n",
    "    passwordh = driver.find_element_by_name('password')\n",
    "    passwordh.send_keys(password)\n",
    "\n",
    "    driver.implicitly_wait(3)\n",
    "    passwordh.send_keys(Keys.ENTER)\n",
    "    \n",
    "def searching_for_telecom():\n",
    "    searchbox = WebDriverWait(driver, 10).until(EC.visibility_of_element_located((By.XPATH, \"//input[@placeholder='Search']\")))\n",
    "    searchbox.send_keys('telecomkz\\n')\n",
    "    driver.implicitly_wait(3)\n",
    "    entering = WebDriverWait(driver, 10).until(EC.visibility_of_element_located((By.XPATH, \"//a[contains(@class, 'yCE8d  ')]\")))\n",
    "    entering.send_keys(Keys.ENTER)\n",
    "    \n",
    "def entering_first_pic():\n",
    "    pic = driver.find_element_by_class_name(\"_9AhH0\")   \n",
    "    pic.click()\n",
    "    \n",
    "def next_picture(): \n",
    "    time.sleep(2) \n",
    "  \n",
    "    # finds the button which gives the next picture\n",
    "    next_button = \"//a[text()=\\\"Next\\\"]\"\n",
    "    nex = driver.find_element_by_xpath(next_button)\n",
    "    time.sleep(1) \n",
    "    return nex \n",
    "\n",
    "\n",
    "login_to_account()\n",
    "driver.implicitly_wait(3)\n",
    "searching_for_telecom()\n",
    "driver.implicitly_wait(3)\n",
    "entering_first_pic()\n",
    "urls.append(driver.current_url)\n",
    "\n",
    "for i in range(5): \n",
    "        next_el = next_picture() \n",
    "  \n",
    "        # if next button is there then \n",
    "        if next_el != False:   \n",
    "  \n",
    "            # click the next button \n",
    "            next_el.click()    \n",
    "            time.sleep(2) \n",
    "  \n",
    "            # saving post's url \n",
    "            urls.append(driver.current_url)     \n",
    "            time.sleep(2)             \n",
    "        else: \n",
    "            print(\"not found\")  \n",
    "            break\n",
    "            \n",
    "            \n",
    "urls_dataframe_format = pd.DataFrame(urls)\n",
    "urls_dataframe_format.to_excel(\"C:\\\\Users\\\\dias_\\\\Downloads\\\\urls_50.xlsx\")"
   ]
  },
  {
   "cell_type": "markdown",
   "metadata": {},
   "source": [
    "# Saving Comments from Urls:"
   ]
  },
  {
   "cell_type": "code",
   "execution_count": null,
   "metadata": {},
   "outputs": [],
   "source": [
    "usernames = []\n",
    "dates = []\n",
    "comments = []\n",
    "\n",
    "driver = webdriver.Chrome(\"C:\\\\Users\\\\dias_\\\\Downloads\\\\chromedriver.exe\")\n",
    "\n",
    "###urls variable is from the above code:\n",
    "for i in urls:\n",
    "    driver.get(i)\n",
    "\n",
    "    while len(driver.find_elements_by_xpath(loadMoreCommentsPath))!=0:\n",
    "        loadMoreComments = driver.find_element_by_xpath(loadMoreCommentsPath)\n",
    "        loadMoreComments.click()\n",
    "        time.sleep(1)\n",
    "    \n",
    "    content = driver.page_source\n",
    "    soup = bs(content, 'html.parser')\n",
    "\n",
    "    comments_up = soup.find_all(\"div\", {\"class\": commentsClass})\n",
    "\n",
    "    for i in comments_up:\n",
    "        comments.append(i.find('span').text)\n",
    "        dates.append(i.find('time')['datetime'])\n",
    "        usernames.append(i.find('a')['href'][1:-1])\n",
    "    \n",
    "d = {'datetime': dates, 'username': usernames, 'comment': comments}  \n",
    "df = pd.DataFrame(d)\n",
    "df.to_excel(\"C:\\\\Users\\\\dias_\\\\Downloads\\\\comments_6_new.xlsx\")\n"
   ]
  }
 ],
 "metadata": {
  "kernelspec": {
   "display_name": "Python 3",
   "language": "python",
   "name": "python3"
  },
  "language_info": {
   "codemirror_mode": {
    "name": "ipython",
    "version": 3
   },
   "file_extension": ".py",
   "mimetype": "text/x-python",
   "name": "python",
   "nbconvert_exporter": "python",
   "pygments_lexer": "ipython3",
   "version": "3.8.3"
  }
 },
 "nbformat": 4,
 "nbformat_minor": 4
}
